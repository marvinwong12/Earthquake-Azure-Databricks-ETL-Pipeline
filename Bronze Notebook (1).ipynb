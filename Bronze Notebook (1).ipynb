{
 "cells": [
  {
   "cell_type": "code",
   "execution_count": 0,
   "metadata": {
    "application/vnd.databricks.v1+cell": {
     "cellMetadata": {
      "byteLimit": 2048000,
      "rowLimit": 10000
     },
     "inputWidgets": {},
     "nuid": "f1f01794-5060-4f5d-8a95-845dd158860c",
     "showTitle": false,
     "tableResultSettingsMap": {},
     "title": ""
    }
   },
   "outputs": [
    {
     "output_type": "execute_result",
     "data": {
      "text/plain": [
       "[]"
      ]
     },
     "execution_count": 4,
     "metadata": {},
     "output_type": "execute_result"
    }
   ],
   "source": [
    "# Mount ADLS Gen2\n",
    "# Required each time cluster is restarted\n",
    "\n",
    "tiers = ['bronze','silver','gold']\n",
    "adls_paths = {tier: f\"abfss://{tier}@marvinwongstorage.dfs.core.windows.net/\" for tier in tiers}\n",
    "\n",
    "# Accessing paths\n",
    "bronze_adls = adls_paths['bronze']\n",
    "silver_adls = adls_paths['silver']\n",
    "gold_adls = adls_paths['gold']\n",
    "\n",
    "dbutils.fs.ls(bronze_adls)\n",
    "dbutils.fs.ls(silver_adls)\n",
    "dbutils.fs.ls(gold_adls)"
   ]
  },
  {
   "cell_type": "code",
   "execution_count": 0,
   "metadata": {
    "application/vnd.databricks.v1+cell": {
     "cellMetadata": {
      "byteLimit": 2048000,
      "rowLimit": 10000
     },
     "inputWidgets": {},
     "nuid": "3402e7ae-a173-4419-8168-5d3f05615bbe",
     "showTitle": false,
     "tableResultSettingsMap": {},
     "title": ""
    }
   },
   "outputs": [],
   "source": [
    "import requests\n",
    "import json\n",
    "from datetime import date, timedelta"
   ]
  },
  {
   "cell_type": "code",
   "execution_count": 0,
   "metadata": {
    "application/vnd.databricks.v1+cell": {
     "cellMetadata": {
      "byteLimit": 2048000,
      "rowLimit": 10000
     },
     "inputWidgets": {},
     "nuid": "aff3ae97-ed80-4fe1-b056-29d44d3d4aa3",
     "showTitle": false,
     "tableResultSettingsMap": {},
     "title": ""
    }
   },
   "outputs": [],
   "source": [
    "start_date = date.today() - timedelta(1)\n",
    "end_date = date.today()"
   ]
  },
  {
   "cell_type": "code",
   "execution_count": 0,
   "metadata": {
    "application/vnd.databricks.v1+cell": {
     "cellMetadata": {
      "byteLimit": 2048000,
      "rowLimit": 10000
     },
     "inputWidgets": {},
     "nuid": "0513a2a4-4beb-4008-ad4a-604cdcb4a010",
     "showTitle": false,
     "tableResultSettingsMap": {},
     "title": ""
    }
   },
   "outputs": [
    {
     "output_type": "stream",
     "name": "stdout",
     "output_type": "stream",
     "text": [
      "Wrote 306061 bytes.\nData successfully saved to abfss://bronze@marvinwongstorage.dfs.core.windows.net//2025-08-30_earthquake_data.json\n"
     ]
    }
   ],
   "source": [
    "# Construct API URL with start and end dates\n",
    "url = f\"https://earthquake.usgs.gov/fdsnws/event/1/query?format=geojson&starttime={start_date}&endtime={end_date}\"\n",
    "\n",
    "try:\n",
    "    # Make the GET request to fetch data\n",
    "    response = requests.get(url)\n",
    "\n",
    "    # Check if the request was successful\n",
    "    response.raise_for_status()  # Raise HTTPError for bad responses (4xx or 5xx)\n",
    "    data = response.json().get('features', [])\n",
    "\n",
    "    if not data:\n",
    "        print(\"No data returned for the specified date range.\")\n",
    "    else:\n",
    "        # Specify the ADLS path\n",
    "        file_path = f\"{bronze_adls}/{start_date}_earthquake_data.json\"\n",
    "\n",
    "        # Save the JSON data\n",
    "        json_data = json.dumps(data, indent=4)\n",
    "        dbutils.fs.put(file_path, json_data, overwrite=True)\n",
    "        print(f\"Data successfully saved to {file_path}\")\n",
    "except requests.exceptions.RequestException as e:\n",
    "    print(f\"Error fetching data from API: {e}\")\n"
   ]
  },
  {
   "cell_type": "code",
   "execution_count": 0,
   "metadata": {
    "application/vnd.databricks.v1+cell": {
     "cellMetadata": {
      "byteLimit": 2048000,
      "rowLimit": 10000
     },
     "inputWidgets": {},
     "nuid": "3481cf26-345a-4553-aece-23f216f9de2f",
     "showTitle": false,
     "tableResultSettingsMap": {},
     "title": ""
    }
   },
   "outputs": [
    {
     "output_type": "execute_result",
     "data": {
      "text/plain": [
       "{'type': 'Feature',\n",
       " 'properties': {'mag': 0.69,\n",
       "  'place': '8 km WNW of Cobb, CA',\n",
       "  'time': 1756598036030,\n",
       "  'updated': 1756598133772,\n",
       "  'tz': None,\n",
       "  'url': 'https://earthquake.usgs.gov/earthquakes/eventpage/nc75231007',\n",
       "  'detail': 'https://earthquake.usgs.gov/fdsnws/event/1/query?eventid=nc75231007&format=geojson',\n",
       "  'felt': None,\n",
       "  'cdi': None,\n",
       "  'mmi': None,\n",
       "  'alert': None,\n",
       "  'status': 'automatic',\n",
       "  'tsunami': 0,\n",
       "  'sig': 7,\n",
       "  'net': 'nc',\n",
       "  'code': '75231007',\n",
       "  'ids': ',nc75231007,',\n",
       "  'sources': ',nc,',\n",
       "  'types': ',nearby-cities,origin,phase-data,',\n",
       "  'nst': 7,\n",
       "  'dmin': 0.01577,\n",
       "  'rms': 0,\n",
       "  'gap': 124,\n",
       "  'magType': 'md',\n",
       "  'type': 'earthquake',\n",
       "  'title': 'M 0.7 - 8 km WNW of Cobb, CA'},\n",
       " 'geometry': {'type': 'Point',\n",
       "  'coordinates': [-122.810997009277, 38.839168548584, 1.75999999046326]},\n",
       " 'id': 'nc75231007'}"
      ]
     },
     "execution_count": 12,
     "metadata": {},
     "output_type": "execute_result"
    }
   ],
   "source": [
    "data[0]"
   ]
  },
  {
   "cell_type": "code",
   "execution_count": 0,
   "metadata": {
    "application/vnd.databricks.v1+cell": {
     "cellMetadata": {},
     "inputWidgets": {},
     "nuid": "c087336e-cc15-4533-ade1-8cde5a0ef49d",
     "showTitle": false,
     "tableResultSettingsMap": {},
     "title": ""
    }
   },
   "outputs": [],
   "source": [
    "output_data = {\n",
    "    'start_date': start_date.isoformat(),\n",
    "    'end_date': end_date.isoformat(),\n",
    "    'bronze_adls': bronze_adls,\n",
    "    'silver_adls': silver_adls,\n",
    "    'gold_adls': gold_adls\n",
    "}\n",
    "\n",
    "# Return dictionary\n",
    "dbutils.jobs.taskValues.set(key = \"bronze_output\", value = output_data)"
   ]
  }
 ],
 "metadata": {
  "application/vnd.databricks.v1+notebook": {
   "computePreferences": null,
   "dashboards": [],
   "environmentMetadata": {
    "base_environment": "",
    "environment_version": "3"
   },
   "inputWidgetPreferences": null,
   "language": "python",
   "notebookMetadata": {
    "pythonIndentUnit": 4
   },
   "notebookName": "Bronze Notebook",
   "widgets": {}
  },
  "language_info": {
   "name": "python"
  }
 },
 "nbformat": 4,
 "nbformat_minor": 0
}